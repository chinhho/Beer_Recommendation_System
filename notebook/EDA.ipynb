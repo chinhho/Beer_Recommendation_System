{
 "cells": [
  {
   "cell_type": "code",
   "execution_count": 1,
   "metadata": {},
   "outputs": [],
   "source": [
    "import pandas as pd\n",
    "import matplotlib.pyplot as plt"
   ]
  },
  {
   "cell_type": "code",
   "execution_count": 2,
   "metadata": {},
   "outputs": [],
   "source": [
    "df=pd.read_csv('data.csv', index_col=[0])"
   ]
  },
  {
   "cell_type": "code",
   "execution_count": 3,
   "metadata": {},
   "outputs": [
    {
     "data": {
      "text/html": [
       "<div>\n",
       "<style scoped>\n",
       "    .dataframe tbody tr th:only-of-type {\n",
       "        vertical-align: middle;\n",
       "    }\n",
       "\n",
       "    .dataframe tbody tr th {\n",
       "        vertical-align: top;\n",
       "    }\n",
       "\n",
       "    .dataframe thead th {\n",
       "        text-align: right;\n",
       "    }\n",
       "</style>\n",
       "<table border=\"1\" class=\"dataframe\">\n",
       "  <thead>\n",
       "    <tr style=\"text-align: right;\">\n",
       "      <th></th>\n",
       "      <th>Beers</th>\n",
       "      <th>Brewery</th>\n",
       "      <th>abv</th>\n",
       "      <th>Url</th>\n",
       "      <th>Id</th>\n",
       "      <th>Rater</th>\n",
       "      <th>From</th>\n",
       "      <th>Rating</th>\n",
       "      <th>Id_beer</th>\n",
       "    </tr>\n",
       "  </thead>\n",
       "  <tbody>\n",
       "    <tr>\n",
       "      <th>0</th>\n",
       "      <td>Traditional Lager</td>\n",
       "      <td>Yuengling Brewery</td>\n",
       "      <td>4.50</td>\n",
       "      <td>/beer/profile/182/1351/</td>\n",
       "      <td>1311021</td>\n",
       "      <td>Derptiluderp</td>\n",
       "      <td>from Indiana</td>\n",
       "      <td>1.23</td>\n",
       "      <td>1</td>\n",
       "    </tr>\n",
       "    <tr>\n",
       "      <th>1</th>\n",
       "      <td>Traditional Lager</td>\n",
       "      <td>Yuengling Brewery</td>\n",
       "      <td>4.50</td>\n",
       "      <td>/beer/profile/182/1351/</td>\n",
       "      <td>736885</td>\n",
       "      <td>DCH</td>\n",
       "      <td>from New York</td>\n",
       "      <td>3.99</td>\n",
       "      <td>1</td>\n",
       "    </tr>\n",
       "    <tr>\n",
       "      <th>2</th>\n",
       "      <td>Traditional Lager</td>\n",
       "      <td>Yuengling Brewery</td>\n",
       "      <td>4.50</td>\n",
       "      <td>/beer/profile/182/1351/</td>\n",
       "      <td>1310518</td>\n",
       "      <td>md3kcn</td>\n",
       "      <td>from Ohio</td>\n",
       "      <td>2.46</td>\n",
       "      <td>1</td>\n",
       "    </tr>\n",
       "    <tr>\n",
       "      <th>3</th>\n",
       "      <td>Traditional Lager</td>\n",
       "      <td>Yuengling Brewery</td>\n",
       "      <td>4.50</td>\n",
       "      <td>/beer/profile/182/1351/</td>\n",
       "      <td>1301271</td>\n",
       "      <td>RobertB412</td>\n",
       "      <td>from Pennsylvania</td>\n",
       "      <td>3.92</td>\n",
       "      <td>1</td>\n",
       "    </tr>\n",
       "    <tr>\n",
       "      <th>4</th>\n",
       "      <td>Traditional Lager</td>\n",
       "      <td>Yuengling Brewery</td>\n",
       "      <td>4.50</td>\n",
       "      <td>/beer/profile/182/1351/</td>\n",
       "      <td>1309542</td>\n",
       "      <td>BarfyMan362</td>\n",
       "      <td>from Indiana</td>\n",
       "      <td>4.78</td>\n",
       "      <td>1</td>\n",
       "    </tr>\n",
       "  </tbody>\n",
       "</table>\n",
       "</div>"
      ],
      "text/plain": [
       "               Beers            Brewery   abv                      Url  \\\n",
       "0  Traditional Lager  Yuengling Brewery  4.50  /beer/profile/182/1351/   \n",
       "1  Traditional Lager  Yuengling Brewery  4.50  /beer/profile/182/1351/   \n",
       "2  Traditional Lager  Yuengling Brewery  4.50  /beer/profile/182/1351/   \n",
       "3  Traditional Lager  Yuengling Brewery  4.50  /beer/profile/182/1351/   \n",
       "4  Traditional Lager  Yuengling Brewery  4.50  /beer/profile/182/1351/   \n",
       "\n",
       "        Id         Rater                From  Rating  Id_beer  \n",
       "0  1311021  Derptiluderp        from Indiana    1.23        1  \n",
       "1   736885           DCH       from New York    3.99        1  \n",
       "2  1310518        md3kcn           from Ohio    2.46        1  \n",
       "3  1301271    RobertB412   from Pennsylvania    3.92        1  \n",
       "4  1309542   BarfyMan362        from Indiana    4.78        1  "
      ]
     },
     "execution_count": 3,
     "metadata": {},
     "output_type": "execute_result"
    }
   ],
   "source": [
    "df.head()"
   ]
  },
  {
   "cell_type": "code",
   "execution_count": 4,
   "metadata": {},
   "outputs": [
    {
     "name": "stdout",
     "output_type": "stream",
     "text": [
      "<class 'pandas.core.frame.DataFrame'>\n",
      "Int64Index: 59803 entries, 0 to 59802\n",
      "Data columns (total 9 columns):\n",
      " #   Column   Non-Null Count  Dtype  \n",
      "---  ------   --------------  -----  \n",
      " 0   Beers    59803 non-null  object \n",
      " 1   Brewery  59803 non-null  object \n",
      " 2   abv      59803 non-null  object \n",
      " 3   Url      59803 non-null  object \n",
      " 4   Id       59803 non-null  int64  \n",
      " 5   Rater    59803 non-null  object \n",
      " 6   From     59803 non-null  object \n",
      " 7   Rating   59803 non-null  float64\n",
      " 8   Id_beer  59803 non-null  int64  \n",
      "dtypes: float64(1), int64(2), object(6)\n",
      "memory usage: 4.6+ MB\n"
     ]
    }
   ],
   "source": [
    "df.info()"
   ]
  },
  {
   "cell_type": "code",
   "execution_count": 5,
   "metadata": {},
   "outputs": [],
   "source": [
    "#there are some ' ? ' values in abv column. The average of beers is 5.00, so i just replace them to 5.00\n",
    "df.abv=df.abv.replace(' ? ', '5.00')"
   ]
  },
  {
   "cell_type": "code",
   "execution_count": 6,
   "metadata": {},
   "outputs": [],
   "source": [
    "#convert abv column from string to float\n",
    "df.abv=df.abv.astype(float)"
   ]
  },
  {
   "cell_type": "code",
   "execution_count": 7,
   "metadata": {
    "scrolled": true
   },
   "outputs": [
    {
     "name": "stdout",
     "output_type": "stream",
     "text": [
      "<class 'pandas.core.frame.DataFrame'>\n",
      "Int64Index: 59803 entries, 0 to 59802\n",
      "Data columns (total 9 columns):\n",
      " #   Column   Non-Null Count  Dtype  \n",
      "---  ------   --------------  -----  \n",
      " 0   Beers    59803 non-null  object \n",
      " 1   Brewery  59803 non-null  object \n",
      " 2   abv      59803 non-null  float64\n",
      " 3   Url      59803 non-null  object \n",
      " 4   Id       59803 non-null  int64  \n",
      " 5   Rater    59803 non-null  object \n",
      " 6   From     59803 non-null  object \n",
      " 7   Rating   59803 non-null  float64\n",
      " 8   Id_beer  59803 non-null  int64  \n",
      "dtypes: float64(2), int64(2), object(5)\n",
      "memory usage: 4.6+ MB\n"
     ]
    }
   ],
   "source": [
    "df.info()"
   ]
  },
  {
   "cell_type": "code",
   "execution_count": 21,
   "metadata": {},
   "outputs": [
    {
     "data": {
      "text/plain": [
       "Schwarzbier          135\n",
       "Festbier             135\n",
       "Rauchbier            162\n",
       "Pilsener             177\n",
       "Oktoberfest Lager    218\n",
       "Pils                 218\n",
       "Dunkel               274\n",
       "Lager                281\n",
       "Pilsner              539\n",
       "Oktoberfest          943\n",
       "Name: Beers, dtype: int64"
      ]
     },
     "execution_count": 21,
     "metadata": {},
     "output_type": "execute_result"
    }
   ],
   "source": [
    "#top 5 beers were rated\n",
    "top10beers=df.Beers.value_counts()[:10].sort_values()\n",
    "top10beers"
   ]
  },
  {
   "cell_type": "code",
   "execution_count": 9,
   "metadata": {},
   "outputs": [
    {
     "data": {
      "image/png": "[encoded data removed]",
      "text/plain": [
       "<Figure size 432x288 with 1 Axes>"
      ]
     },
     "metadata": {
      "needs_background": "light"
     },
     "output_type": "display_data"
    }
   ],
   "source": [
    "top10beers.plot(kind='barh')\n",
    "plt.show()"
   ]
  },
  {
   "cell_type": "code",
   "execution_count": 22,
   "metadata": {},
   "outputs": [
    {
     "data": {
      "text/plain": [
       "metter98         518\n",
       "woodychandler    506\n",
       "tone77           423\n",
       "StonedTrippin    404\n",
       "biboergosum      357\n",
       "Jugs_McGhee      353\n",
       "stevoj           327\n",
       "NeroFiddled      309\n",
       "WoodBrew         295\n",
       "superspak        291\n",
       "Name: Rater, dtype: int64"
      ]
     },
     "execution_count": 22,
     "metadata": {},
     "output_type": "execute_result"
    }
   ],
   "source": [
    "top10raters=df.Rater.value_counts()[:10]\n",
    "top10raters"
   ]
  },
  {
   "cell_type": "code",
   "execution_count": 11,
   "metadata": {},
   "outputs": [
    {
     "data": {
      "image/png": "[encoded data removed]",
      "text/plain": [
       "<Figure size 432x288 with 1 Axes>"
      ]
     },
     "metadata": {
      "needs_background": "light"
     },
     "output_type": "display_data"
    }
   ],
   "source": [
    "top10raters.plot(kind='barh')\n",
    "plt.show()"
   ]
  },
  {
   "cell_type": "code",
   "execution_count": 12,
   "metadata": {},
   "outputs": [
    {
     "data": {
      "text/plain": [
       "City Brewing Company, LLC                  304\n",
       "Labatt Brewing Company Ltd.                305\n",
       "Grupo Modelo S.A. de C.V.                  314\n",
       "Matt Brewing Company / Saranac Brewery     408\n",
       "Miller Brewing Co.                         417\n",
       "Boston Beer Company (Samuel Adams)         419\n",
       "Jack's Abby Brewing                        518\n",
       "Molson Coors Canada                        533\n",
       "Pabst Brewing Company                      894\n",
       "Anheuser-Busch                            1187\n",
       "Name: Brewery, dtype: int64"
      ]
     },
     "execution_count": 12,
     "metadata": {},
     "output_type": "execute_result"
    }
   ],
   "source": [
    "top10brewery=df.Brewery.value_counts()[:10].sort_values()\n",
    "top10brewery"
   ]
  },
  {
   "cell_type": "code",
   "execution_count": 13,
   "metadata": {},
   "outputs": [
    {
     "data": {
      "image/png": "[encoded data removed]",
      "text/plain": [
       "<Figure size 432x288 with 1 Axes>"
      ]
     },
     "metadata": {
      "needs_background": "light"
     },
     "output_type": "display_data"
    }
   ],
   "source": [
    "df.Rating.hist()\n",
    "plt.show()"
   ]
  },
  {
   "cell_type": "code",
   "execution_count": 14,
   "metadata": {},
   "outputs": [
    {
     "data": {
      "image/png": "[encoded data removed]",
      "text/plain": [
       "<Figure size 432x288 with 1 Axes>"
      ]
     },
     "metadata": {
      "needs_background": "light"
     },
     "output_type": "display_data"
    }
   ],
   "source": [
    "df.abv.hist()\n",
    "plt.show()"
   ]
  },
  {
   "cell_type": "code",
   "execution_count": null,
   "metadata": {},
   "outputs": [],
   "source": []
  },
  {
   "cell_type": "code",
   "execution_count": null,
   "metadata": {},
   "outputs": [],
   "source": []
  },
  {
   "cell_type": "code",
   "execution_count": 15,
   "metadata": {},
   "outputs": [],
   "source": [
    "top5=df[df['Rating']==5.00].sort_values(by=['Rating'], ascending=False)"
   ]
  },
  {
   "cell_type": "code",
   "execution_count": 16,
   "metadata": {},
   "outputs": [
    {
     "data": {
      "text/html": [
       "<div>\n",
       "<style scoped>\n",
       "    .dataframe tbody tr th:only-of-type {\n",
       "        vertical-align: middle;\n",
       "    }\n",
       "\n",
       "    .dataframe tbody tr th {\n",
       "        vertical-align: top;\n",
       "    }\n",
       "\n",
       "    .dataframe thead th {\n",
       "        text-align: right;\n",
       "    }\n",
       "</style>\n",
       "<table border=\"1\" class=\"dataframe\">\n",
       "  <thead>\n",
       "    <tr style=\"text-align: right;\">\n",
       "      <th></th>\n",
       "      <th>Beers</th>\n",
       "      <th>Brewery</th>\n",
       "      <th>abv</th>\n",
       "      <th>Url</th>\n",
       "      <th>Id</th>\n",
       "      <th>Rater</th>\n",
       "      <th>From</th>\n",
       "      <th>Rating</th>\n",
       "      <th>Id_beer</th>\n",
       "    </tr>\n",
       "  </thead>\n",
       "  <tbody>\n",
       "    <tr>\n",
       "      <th>11</th>\n",
       "      <td>Traditional Lager</td>\n",
       "      <td>Yuengling Brewery</td>\n",
       "      <td>4.5</td>\n",
       "      <td>/beer/profile/182/1351/</td>\n",
       "      <td>1260052</td>\n",
       "      <td>ClinchMtnMan</td>\n",
       "      <td>from Virginia</td>\n",
       "      <td>5.0</td>\n",
       "      <td>1</td>\n",
       "    </tr>\n",
       "    <tr>\n",
       "      <th>43650</th>\n",
       "      <td>Head In The Clouds</td>\n",
       "      <td>Church Street Brewing Company</td>\n",
       "      <td>5.4</td>\n",
       "      <td>/beer/profile/30300/273915/</td>\n",
       "      <td>1203755</td>\n",
       "      <td>tp1962</td>\n",
       "      <td>from Illinois</td>\n",
       "      <td>5.0</td>\n",
       "      <td>3807</td>\n",
       "    </tr>\n",
       "    <tr>\n",
       "      <th>44061</th>\n",
       "      <td>Bud Light Platinum</td>\n",
       "      <td>Anheuser-Busch</td>\n",
       "      <td>6.0</td>\n",
       "      <td>/beer/profile/29/76899/</td>\n",
       "      <td>309633</td>\n",
       "      <td>Santosizer</td>\n",
       "      <td>from California</td>\n",
       "      <td>5.0</td>\n",
       "      <td>3881</td>\n",
       "    </tr>\n",
       "    <tr>\n",
       "      <th>44009</th>\n",
       "      <td>Keystone Light</td>\n",
       "      <td>Coors Brewing Company (Molson-Coors)</td>\n",
       "      <td>4.1</td>\n",
       "      <td>/beer/profile/306/1341/</td>\n",
       "      <td>1267955</td>\n",
       "      <td>Brandon333</td>\n",
       "      <td>from Florida</td>\n",
       "      <td>5.0</td>\n",
       "      <td>3879</td>\n",
       "    </tr>\n",
       "    <tr>\n",
       "      <th>43994</th>\n",
       "      <td>Keystone Light</td>\n",
       "      <td>Coors Brewing Company (Molson-Coors)</td>\n",
       "      <td>4.1</td>\n",
       "      <td>/beer/profile/306/1341/</td>\n",
       "      <td>1306734</td>\n",
       "      <td>TheDirtyK</td>\n",
       "      <td>from Michigan</td>\n",
       "      <td>5.0</td>\n",
       "      <td>3879</td>\n",
       "    </tr>\n",
       "    <tr>\n",
       "      <th>...</th>\n",
       "      <td>...</td>\n",
       "      <td>...</td>\n",
       "      <td>...</td>\n",
       "      <td>...</td>\n",
       "      <td>...</td>\n",
       "      <td>...</td>\n",
       "      <td>...</td>\n",
       "      <td>...</td>\n",
       "      <td>...</td>\n",
       "    </tr>\n",
       "    <tr>\n",
       "      <th>20174</th>\n",
       "      <td>Carling Black Label</td>\n",
       "      <td>Molson Coors Canada</td>\n",
       "      <td>5.0</td>\n",
       "      <td>/beer/profile/433/8617/</td>\n",
       "      <td>1299776</td>\n",
       "      <td>buddy_harvey</td>\n",
       "      <td>from Ohio</td>\n",
       "      <td>5.0</td>\n",
       "      <td>1807</td>\n",
       "    </tr>\n",
       "    <tr>\n",
       "      <th>20139</th>\n",
       "      <td>Caribbean Lager</td>\n",
       "      <td>Banks (Barbados) Breweries Limited</td>\n",
       "      <td>4.7</td>\n",
       "      <td>/beer/profile/581/7585/</td>\n",
       "      <td>614072</td>\n",
       "      <td>4thelvofbeer</td>\n",
       "      <td>from Virginia</td>\n",
       "      <td>5.0</td>\n",
       "      <td>1805</td>\n",
       "    </tr>\n",
       "    <tr>\n",
       "      <th>19950</th>\n",
       "      <td>Schaefer</td>\n",
       "      <td>F &amp; M Schaefer Brewing Co.</td>\n",
       "      <td>4.6</td>\n",
       "      <td>/beer/profile/442/1318/</td>\n",
       "      <td>155938</td>\n",
       "      <td>vwbus7</td>\n",
       "      <td>from North Carolina</td>\n",
       "      <td>5.0</td>\n",
       "      <td>1797</td>\n",
       "    </tr>\n",
       "    <tr>\n",
       "      <th>19893</th>\n",
       "      <td>Big Flats 1901</td>\n",
       "      <td>World Brews</td>\n",
       "      <td>4.5</td>\n",
       "      <td>/beer/profile/21092/64297/</td>\n",
       "      <td>1061156</td>\n",
       "      <td>agarand</td>\n",
       "      <td>from South Carolina</td>\n",
       "      <td>5.0</td>\n",
       "      <td>1794</td>\n",
       "    </tr>\n",
       "    <tr>\n",
       "      <th>59330</th>\n",
       "      <td>Summer Pilsner Fusion</td>\n",
       "      <td>Element Brewing Company</td>\n",
       "      <td>9.1</td>\n",
       "      <td>/beer/profile/22202/69030/</td>\n",
       "      <td>461346</td>\n",
       "      <td>ComputerBeer</td>\n",
       "      <td>from Massachusetts</td>\n",
       "      <td>5.0</td>\n",
       "      <td>4921</td>\n",
       "    </tr>\n",
       "  </tbody>\n",
       "</table>\n",
       "<p>336 rows × 9 columns</p>\n",
       "</div>"
      ],
      "text/plain": [
       "                       Beers                               Brewery  abv  \\\n",
       "11         Traditional Lager                     Yuengling Brewery  4.5   \n",
       "43650     Head In The Clouds         Church Street Brewing Company  5.4   \n",
       "44061     Bud Light Platinum                        Anheuser-Busch  6.0   \n",
       "44009         Keystone Light  Coors Brewing Company (Molson-Coors)  4.1   \n",
       "43994         Keystone Light  Coors Brewing Company (Molson-Coors)  4.1   \n",
       "...                      ...                                   ...  ...   \n",
       "20174    Carling Black Label                   Molson Coors Canada  5.0   \n",
       "20139        Caribbean Lager    Banks (Barbados) Breweries Limited  4.7   \n",
       "19950               Schaefer            F & M Schaefer Brewing Co.  4.6   \n",
       "19893         Big Flats 1901                           World Brews  4.5   \n",
       "59330  Summer Pilsner Fusion               Element Brewing Company  9.1   \n",
       "\n",
       "                               Url       Id         Rater  \\\n",
       "11         /beer/profile/182/1351/  1260052  ClinchMtnMan   \n",
       "43650  /beer/profile/30300/273915/  1203755        tp1962   \n",
       "44061      /beer/profile/29/76899/   309633    Santosizer   \n",
       "44009      /beer/profile/306/1341/  1267955    Brandon333   \n",
       "43994      /beer/profile/306/1341/  1306734     TheDirtyK   \n",
       "...                            ...      ...           ...   \n",
       "20174      /beer/profile/433/8617/  1299776  buddy_harvey   \n",
       "20139      /beer/profile/581/7585/   614072  4thelvofbeer   \n",
       "19950      /beer/profile/442/1318/   155938        vwbus7   \n",
       "19893   /beer/profile/21092/64297/  1061156       agarand   \n",
       "59330   /beer/profile/22202/69030/   461346  ComputerBeer   \n",
       "\n",
       "                       From  Rating  Id_beer  \n",
       "11            from Virginia     5.0        1  \n",
       "43650         from Illinois     5.0     3807  \n",
       "44061       from California     5.0     3881  \n",
       "44009          from Florida     5.0     3879  \n",
       "43994         from Michigan     5.0     3879  \n",
       "...                     ...     ...      ...  \n",
       "20174             from Ohio     5.0     1807  \n",
       "20139         from Virginia     5.0     1805  \n",
       "19950   from North Carolina     5.0     1797  \n",
       "19893   from South Carolina     5.0     1794  \n",
       "59330    from Massachusetts     5.0     4921  \n",
       "\n",
       "[336 rows x 9 columns]"
      ]
     },
     "execution_count": 16,
     "metadata": {},
     "output_type": "execute_result"
    }
   ],
   "source": [
    "top5"
   ]
  },
  {
   "cell_type": "code",
   "execution_count": 17,
   "metadata": {},
   "outputs": [
    {
     "data": {
      "text/plain": [
       "178"
      ]
     },
     "execution_count": 17,
     "metadata": {},
     "output_type": "execute_result"
    }
   ],
   "source": [
    "top5['Brewery'].nunique()"
   ]
  },
  {
   "cell_type": "code",
   "execution_count": 18,
   "metadata": {},
   "outputs": [
    {
     "data": {
      "text/plain": [
       "Rating\n",
       "1.00    140\n",
       "1.02      9\n",
       "1.03     28\n",
       "1.04      3\n",
       "1.05      8\n",
       "       ... \n",
       "4.96      4\n",
       "4.97      6\n",
       "4.98      8\n",
       "4.99      8\n",
       "5.00    336\n",
       "Name: Rating, Length: 400, dtype: int64"
      ]
     },
     "execution_count": 18,
     "metadata": {},
     "output_type": "execute_result"
    }
   ],
   "source": [
    "df.groupby('Rating')['Rating'].agg('count')"
   ]
  },
  {
   "cell_type": "code",
   "execution_count": 19,
   "metadata": {},
   "outputs": [
    {
     "data": {
      "text/plain": [
       "0"
      ]
     },
     "execution_count": 19,
     "metadata": {},
     "output_type": "execute_result"
    }
   ],
   "source": [
    "df.isnull().sum()[1]"
   ]
  },
  {
   "cell_type": "code",
   "execution_count": null,
   "metadata": {},
   "outputs": [],
   "source": []
  }
 ],
 "metadata": {
  "kernelspec": {
   "display_name": "Python 3",
   "language": "python",
   "name": "python3"
  },
  "language_info": {
   "codemirror_mode": {
    "name": "ipython",
    "version": 3
   },
   "file_extension": ".py",
   "mimetype": "text/x-python",
   "name": "python",
   "nbconvert_exporter": "python",
   "pygments_lexer": "ipython3",
   "version": "3.7.6"
  }
 },
 "nbformat": 4,
 "nbformat_minor": 4
}
